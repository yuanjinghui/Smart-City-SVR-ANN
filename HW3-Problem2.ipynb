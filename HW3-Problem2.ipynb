{
 "cells": [
  {
   "cell_type": "markdown",
   "metadata": {},
   "source": [
    "# Problem 2"
   ]
  },
  {
   "cell_type": "code",
   "execution_count": 1,
   "metadata": {
    "collapsed": true
   },
   "outputs": [],
   "source": [
    "# import data\n",
    "import pandas as pd\n",
    "df=pd.read_csv('C:/Onedrive/OneDrive - Knights - University of Central Florida/UCF/Courses/Smart City/HW1/Bike-Sharing-Dataset/hour.csv')"
   ]
  },
  {
   "cell_type": "code",
   "execution_count": 26,
   "metadata": {
    "collapsed": true
   },
   "outputs": [],
   "source": [
    "# Select the required dataset\n",
    "import numpy as np\n",
    "# create design matrix X and target vector y\n",
    "X = np.array(df.iloc[:, [2,4,5,6,7,8,9,10,11,12,13]]) \t# end index is exclusive\n",
    "Y = np.array(df['cnt']) \t# another way of indexing a pandas df"
   ]
  },
  {
   "cell_type": "code",
   "execution_count": 39,
   "metadata": {},
   "outputs": [
    {
     "name": "stdout",
     "output_type": "stream",
     "text": [
      "[[  1.       1.       0.     ...,   0.2879   0.81     0.    ]\n",
      " [  1.       1.       1.     ...,   0.2727   0.8      0.    ]\n",
      " [  1.       1.       2.     ...,   0.2727   0.8      0.    ]\n",
      " ..., \n",
      " [  1.      12.      21.     ...,   0.2576   0.6      0.1642]\n",
      " [  1.      12.      22.     ...,   0.2727   0.56     0.1343]\n",
      " [  1.      12.      23.     ...,   0.2727   0.65     0.1343]]\n"
     ]
    }
   ],
   "source": [
    "print(X)"
   ]
  },
  {
   "cell_type": "code",
   "execution_count": 27,
   "metadata": {
    "collapsed": true
   },
   "outputs": [],
   "source": [
    "# split into train and test\n",
    "from sklearn.model_selection import train_test_split\n",
    "\n",
    "X_train, X_test, Y_train, Y_test = train_test_split(X, Y, test_size=0.25, random_state=42)"
   ]
  },
  {
   "cell_type": "code",
   "execution_count": 28,
   "metadata": {
    "collapsed": true
   },
   "outputs": [],
   "source": [
    "# Scale the datasets\n",
    "from sklearn.preprocessing import StandardScaler  \n",
    "scaler = StandardScaler()  \n",
    "# Don't cheat - fit only on training data\n",
    "scaler.fit(X_train)  \n",
    "X_train = scaler.transform(X_train)  \n",
    "# apply same transformation to test data\n",
    "X_test = scaler.transform(X_test)  "
   ]
  },
  {
   "cell_type": "code",
   "execution_count": 50,
   "metadata": {},
   "outputs": [
    {
     "name": "stdout",
     "output_type": "stream",
     "text": [
      "0.858626202548\n"
     ]
    }
   ],
   "source": [
    "# ANN with lbfgs solver\n",
    "from sklearn.neural_network import MLPRegressor\n",
    "\n",
    "clf = MLPRegressor(solver='lbfgs', alpha=1e-5, hidden_layer_sizes=(100,), max_iter=20000, random_state=1)\n",
    "y_pred = clf.fit(X_train, Y_train).predict(X_test)\n",
    "score_tst = clf.score(X_test,Y_test)\n",
    "print(score_tst)"
   ]
  },
  {
   "cell_type": "code",
   "execution_count": 30,
   "metadata": {},
   "outputs": [
    {
     "name": "stdout",
     "output_type": "stream",
     "text": [
      "0.523351988066\n"
     ]
    }
   ],
   "source": [
    "# ANN with sgd solver\n",
    "clf = MLPRegressor(solver='sgd', alpha=1e-5, hidden_layer_sizes=(100,), max_iter=20000, random_state=1)\n",
    "y_pred = clf.fit(X_train, Y_train).predict(X_test)\n",
    "score_tst = clf.score(X_test,Y_test)\n",
    "print(score_tst)"
   ]
  },
  {
   "cell_type": "code",
   "execution_count": 32,
   "metadata": {},
   "outputs": [
    {
     "name": "stdout",
     "output_type": "stream",
     "text": [
      "0.735598517912\n"
     ]
    }
   ],
   "source": [
    "# ANN with adam solver\n",
    "clf = MLPRegressor(solver='adam', alpha=1e-5, hidden_layer_sizes=(100,), max_iter=20000, random_state=1)\n",
    "y_pred = clf.fit(X_train, Y_train).predict(X_test)\n",
    "score_tst = clf.score(X_test,Y_test)\n",
    "print(score_tst)"
   ]
  },
  {
   "cell_type": "code",
   "execution_count": 52,
   "metadata": {
    "collapsed": true
   },
   "outputs": [],
   "source": [
    "# Develop model based on different hidden layer\n",
    "score_list=[]\n",
    "for i in range (1,5):\n",
    "    clf = MLPRegressor(solver='lbfgs', alpha=1e-5, hidden_layer_sizes=(np.repeat(100,i)), max_iter=20000, random_state=1)\n",
    "    y_pred = clf.fit(X_train, Y_train).predict(X_test)\n",
    "    score_tst = clf.score(X_test,Y_test)\n",
    "    score_list.append(score_tst)\n",
    "    "
   ]
  },
  {
   "cell_type": "code",
   "execution_count": 53,
   "metadata": {},
   "outputs": [
    {
     "name": "stdout",
     "output_type": "stream",
     "text": [
      "[0.85862620254837618, 0.78296701882675002, 0.77110685250856426, 0.74043152245553445]\n"
     ]
    }
   ],
   "source": [
    "print(score_list)"
   ]
  },
  {
   "cell_type": "code",
   "execution_count": 58,
   "metadata": {},
   "outputs": [
    {
     "data": {
      "image/png": "[encoded data removed]",
      "text/plain": [
       "<matplotlib.figure.Figure at 0x1eace41aeb8>"
      ]
     },
     "metadata": {},
     "output_type": "display_data"
    }
   ],
   "source": [
    "# Plot the accuracy level for different kernel function\n",
    "import matplotlib.pyplot as plt\n",
    "%matplotlib inline\n",
    "\n",
    "x=np.array([1,2,3,4])\n",
    "\n",
    "plt.plot(x,score_list, label='model a')\n",
    "\n",
    "plt.legend()\n",
    "plt.show()"
   ]
  },
  {
   "cell_type": "markdown",
   "metadata": {},
   "source": [
    "# b: ANN model to predict the bikesharing demand for the next hour"
   ]
  },
  {
   "cell_type": "code",
   "execution_count": 40,
   "metadata": {
    "collapsed": true
   },
   "outputs": [],
   "source": [
    "# remove the last row of X and first obs of Y\n",
    "X1 = X[:-1] \t# end index is exclusive\n",
    "Y1 = Y[1:] \t# another way of indexing a pandas df"
   ]
  },
  {
   "cell_type": "code",
   "execution_count": 41,
   "metadata": {},
   "outputs": [
    {
     "name": "stdout",
     "output_type": "stream",
     "text": [
      "[[  1.       1.       0.     ...,   0.2879   0.81     0.    ]\n",
      " [  1.       1.       1.     ...,   0.2727   0.8      0.    ]\n",
      " [  1.       1.       2.     ...,   0.2727   0.8      0.    ]\n",
      " ..., \n",
      " [  1.      12.      20.     ...,   0.2576   0.6      0.1642]\n",
      " [  1.      12.      21.     ...,   0.2576   0.6      0.1642]\n",
      " [  1.      12.      22.     ...,   0.2727   0.56     0.1343]]\n"
     ]
    }
   ],
   "source": [
    "print(X1)"
   ]
  },
  {
   "cell_type": "code",
   "execution_count": 42,
   "metadata": {},
   "outputs": [],
   "source": [
    "# split into train and test\n",
    "from sklearn.model_selection import train_test_split\n",
    "\n",
    "X1_train, X1_test, Y1_train, Y1_test = train_test_split(X1, Y1, test_size=0.25, random_state=42)"
   ]
  },
  {
   "cell_type": "code",
   "execution_count": 43,
   "metadata": {
    "collapsed": true
   },
   "outputs": [],
   "source": [
    "# Scale the datasets\n",
    "from sklearn.preprocessing import StandardScaler  \n",
    "scaler = StandardScaler()  \n",
    "# Don't cheat - fit only on training data\n",
    "scaler.fit(X1_train)  \n",
    "X1_train = scaler.transform(X1_train)  \n",
    "# apply same transformation to test data\n",
    "X1_test = scaler.transform(X1_test)  "
   ]
  },
  {
   "cell_type": "code",
   "execution_count": 54,
   "metadata": {},
   "outputs": [
    {
     "name": "stdout",
     "output_type": "stream",
     "text": [
      "[0.855158714545313, 0.79831935817823396, 0.74610765072156282, 0.70569733351496766]\n"
     ]
    }
   ],
   "source": [
    "# Develop model based on different hidden layer\n",
    "b_score_list=[]\n",
    "for i in range (1,5):\n",
    "    clf = MLPRegressor(solver='lbfgs', alpha=1e-5, hidden_layer_sizes=(np.repeat(100,i)), random_state=1, max_iter=200000)\n",
    "    y_pred = clf.fit(X1_train, Y1_train).predict(X1_test)\n",
    "    score_tst = clf.score(X1_test,Y1_test)\n",
    "    b_score_list.append(score_tst)\n",
    "print(b_score_list)"
   ]
  },
  {
   "cell_type": "code",
   "execution_count": 57,
   "metadata": {},
   "outputs": [
    {
     "data": {
      "image/png": "[encoded data removed]",
      "text/plain": [
       "<matplotlib.figure.Figure at 0x1eacd04eac8>"
      ]
     },
     "metadata": {},
     "output_type": "display_data"
    }
   ],
   "source": [
    "# Plot the accuracy level for different kernel function\n",
    "import matplotlib.pyplot as plt\n",
    "%matplotlib inline\n",
    "\n",
    "x=np.array([1,2,3,4])\n",
    "\n",
    "plt.plot(x,b_score_list, label='model b')\n",
    "\n",
    "plt.legend()\n",
    "plt.show()"
   ]
  },
  {
   "cell_type": "markdown",
   "metadata": {},
   "source": [
    "# c: Compare the accuracy of the ANN models developed"
   ]
  },
  {
   "cell_type": "code",
   "execution_count": 56,
   "metadata": {},
   "outputs": [
    {
     "data": {
      "image/png": "[encoded data removed]",
      "text/plain": [
       "<matplotlib.figure.Figure at 0x1eacd08b208>"
      ]
     },
     "metadata": {},
     "output_type": "display_data"
    }
   ],
   "source": [
    "# Plot the accuracy level for different kernel function\n",
    "import matplotlib.pyplot as plt\n",
    "%matplotlib inline\n",
    "\n",
    "x=np.array([1,2,3,4])\n",
    "\n",
    "plt.plot(x,score_list, label='model a')\n",
    "plt.plot(x,b_score_list, label='model b')\n",
    "\n",
    "plt.legend()\n",
    "plt.show()"
   ]
  },
  {
   "cell_type": "code",
   "execution_count": null,
   "metadata": {
    "collapsed": true
   },
   "outputs": [],
   "source": []
  }
 ],
 "metadata": {
  "kernelspec": {
   "display_name": "Python 3",
   "language": "python",
   "name": "python3"
  },
  "language_info": {
   "codemirror_mode": {
    "name": "ipython",
    "version": 3
   },
   "file_extension": ".py",
   "mimetype": "text/x-python",
   "name": "python",
   "nbconvert_exporter": "python",
   "pygments_lexer": "ipython3",
   "version": "3.6.1"
  }
 },
 "nbformat": 4,
 "nbformat_minor": 2
}
